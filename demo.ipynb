{
 "cells": [
  {
   "cell_type": "code",
   "execution_count": null,
   "id": "50e6c714",
   "metadata": {},
   "outputs": [],
   "source": [
    "import cv2\n",
    "from image_approximator import ImageApproximator, ImageApproximatorParameters\n",
    "\n",
    "params = ImageApproximatorParameters()\n",
    "params.make_animation = True\n",
    "\n",
    "TARGET_IMAGE_PATH = 'path/to/target.jpg'\n",
    "PATCHES_PATH = 'basic_patches' # or wherever you store your patches\n",
    "\n",
    "approximator = ImageApproximator(\n",
    "    target_img_path=TARGET_IMAGE_PATH,\n",
    "    patches_dir=PATCHES_PATH,\n",
    "    parameters=params\n",
    ")\n",
    "\n",
    "final_img = approximator.run(notebook=True)\n",
    "cv2.imwrite(\"output.png\", final_img)\n",
    "approximator.render_animation(\"build_animation.mp4\")"
   ]
  }
 ],
 "metadata": {
  "language_info": {
   "name": "python"
  }
 },
 "nbformat": 4,
 "nbformat_minor": 5
}
